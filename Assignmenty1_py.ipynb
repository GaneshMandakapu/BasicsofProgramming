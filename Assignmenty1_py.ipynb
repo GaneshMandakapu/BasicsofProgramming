{
  "nbformat": 4,
  "nbformat_minor": 0,
  "metadata": {
    "colab": {
      "name": "Assignmenty1.py",
      "provenance": [],
      "authorship_tag": "ABX9TyPeG7SZAgx2YgWD8UKiaqhx",
      "include_colab_link": true
    },
    "kernelspec": {
      "name": "python3",
      "display_name": "Python 3"
    }
  },
  "cells": [
    {
      "cell_type": "markdown",
      "metadata": {
        "id": "view-in-github",
        "colab_type": "text"
      },
      "source": [
        "<a href=\"https://colab.research.google.com/github/GaneshMandakapu/BasicsofProgramming/blob/master/Assignmenty1_py.ipynb\" target=\"_parent\"><img src=\"https://colab.research.google.com/assets/colab-badge.svg\" alt=\"Open In Colab\"/></a>"
      ]
    },
    {
      "cell_type": "markdown",
      "metadata": {
        "id": "Die-4HaPaeSG",
        "colab_type": "text"
      },
      "source": [
        "Create a Password generator , where when you enter the right credentials , it gives acess , and wrong password denies the access"
      ]
    },
    {
      "cell_type": "code",
      "metadata": {
        "id": "we_nC3fgYFZZ",
        "colab_type": "code",
        "colab": {
          "base_uri": "https://localhost:8080/",
          "height": 199
        },
        "outputId": "c98f1384-d6d4-405b-a8a9-3c4918e870cf"
      },
      "source": [
        "print('Enter username and password')\n",
        "count=0\n",
        "while count < 3:\n",
        "    username = input('Enter username: ')\n",
        "    password = input('Enter password: ')\n",
        "    if password=='12345' and username=='ganesh':\n",
        "        print('Access granted')\n",
        "        break\n",
        "    else:\n",
        "        print('Access denied. Try again.')\n",
        "        count+=1\n",
        "        "
      ],
      "execution_count": null,
      "outputs": [
        {
          "output_type": "stream",
          "text": [
            "Enter username and password\n",
            "Enter username: ganeshh\n",
            "Enter password: 123456\n",
            "Access denied. Try again.\n",
            "Enter username: ganeshh\n",
            "Enter password: 12346568\n",
            "Access denied. Try again.\n",
            "Enter username: gansge\n",
            "Enter password: 12345\n",
            "Access denied. Try again.\n"
          ],
          "name": "stdout"
        }
      ]
    },
    {
      "cell_type": "code",
      "metadata": {
        "id": "ORi12uOaZa98",
        "colab_type": "code",
        "colab": {}
      },
      "source": [
        "Guess a number , to get a number game"
      ],
      "execution_count": null,
      "outputs": []
    },
    {
      "cell_type": "markdown",
      "metadata": {
        "id": "C_CSCmNiadYr",
        "colab_type": "text"
      },
      "source": [
        "Guess a number , to get a number game"
      ]
    },
    {
      "cell_type": "code",
      "metadata": {
        "id": "lfShW_EbaxaN",
        "colab_type": "code",
        "colab": {
          "base_uri": "https://localhost:8080/",
          "height": 134
        },
        "outputId": "2bc1dbf5-451a-48e6-83aa-a0633cfc7e20"
      },
      "source": [
        ""
      ],
      "execution_count": null,
      "outputs": [
        {
          "output_type": "error",
          "ename": "SyntaxError",
          "evalue": "ignored",
          "traceback": [
            "\u001b[0;36m  File \u001b[0;32m\"<ipython-input-12-6f65eba08016>\"\u001b[0;36m, line \u001b[0;32m3\u001b[0m\n\u001b[0;31m    while target_num = guess_num:\u001b[0m\n\u001b[0m                     ^\u001b[0m\n\u001b[0;31mSyntaxError\u001b[0m\u001b[0;31m:\u001b[0m invalid syntax\n"
          ]
        }
      ]
    },
    {
      "cell_type": "code",
      "metadata": {
        "id": "1Y0lamLjbe5q",
        "colab_type": "code",
        "colab": {}
      },
      "source": [
        ""
      ],
      "execution_count": null,
      "outputs": []
    }
  ]
}